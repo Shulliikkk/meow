{
 "cells": [
  {
   "cell_type": "code",
   "execution_count": null,
   "id": "0feaab86",
   "metadata": {},
   "outputs": [],
   "source": [
    "import numpy as np\n",
    "from scipy.integrate import odeint\n",
    "import matplotlib.pyplot as plt\n",
    "\n",
    "m = 1\n",
    "k_1, k_2 = 40, 40\n",
    "l_1, l_2 = 0.4, 0.4\n",
    "g = 9.8\n",
    "\n",
    "def dxdt(x, t):\n",
    "    dxdt = np.zeros(4)\n",
    "    dxdt[0] = x[1]\n",
    "    dxdt[1] = - k_1 / m * ((x[0]**2 + x[2]**2)**0.5 - l_1) * x[0] / (x[0] + x[2])**0.5 - k_2 / m * (((l_2 + x[2])**2 + (x[0] - l_1)**2)**0.5 - l_2) * (x[0] - l_1) / ((l_2 + x[2])**2 + (x[0] - l_1)**2)**0.5\n",
    "    dxdt[2] = x[3]\n",
    "    dxdt[3] = g - k_1 / m * ((x[0]**2 + x[2]**2)**0.5 - l_1) * x[2] / (x[0] + x[2])**0.5 - k_2 / m * (((l_2 + x[2])**2 + (x[0] - l_1)**2)**0.5 - l_2) * (x[2] + l_2) / ((l_2 + x[2])**2 + (x[0] - l_1)**2)**0.5\n",
    "    return dxdt\n",
    "x_0 = np.array([l_1 + l_1 / 10, 0, l_2 / 10, 0])\n",
    "t = np.linspace(0, 10, 10000)\n",
    "x = odeint(dxdt, x_0, t)\n",
    "plt.gca().invert_yaxis ()\n",
    "plt.plot(x[:, 0], x[:, 3])\n",
    "plt.xlabel('x')\n",
    "plt.ylabel('y')\n",
    "plt.show()"
   ]
  }
 ],
 "metadata": {
  "kernelspec": {
   "display_name": "Python 3 (ipykernel)",
   "language": "python",
   "name": "python3"
  },
  "language_info": {
   "codemirror_mode": {
    "name": "ipython",
    "version": 3
   },
   "file_extension": ".py",
   "mimetype": "text/x-python",
   "name": "python",
   "nbconvert_exporter": "python",
   "pygments_lexer": "ipython3",
   "version": "3.10.4"
  }
 },
 "nbformat": 4,
 "nbformat_minor": 5
}
